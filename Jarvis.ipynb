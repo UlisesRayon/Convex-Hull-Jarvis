{
 "cells": [
  {
   "cell_type": "markdown",
   "metadata": {},
   "source": [
    "# Convex Hull Code (Jarvis)\n",
    "\n",
    "This code have three cells. The first represent a pair of necessary function, if you read about the [Jarvis' Algorith](https://en.wikipedia.org/wiki/Gift_wrapping_algorithm) you will notice why are necessary that functions."
   ]
  },
  {
   "cell_type": "code",
   "execution_count": null,
   "metadata": {},
   "outputs": [],
   "source": [
    "function rot(A,B,C)\n",
    "    #z=(y2 - y1)*(x3 - x2) - (y3 - y2)*(x2 - x1)\n",
    "    #if z<0 CCW\n",
    "    #if z=0 COL\n",
    "    #if z>0 CW\n",
    "    return((B[2]-A[2])*(C[1]-B[1])-(B[1]-A[1])*(C[2]-B[2]))\n",
    "end\n",
    "\n",
    "function dist(a,b) #This function compute the euclidian distance between two points\n",
    "    c=a.-b; c=c.^2; dit=sqrt(sum(c));\n",
    "    return dit\n",
    "end\n",
    "\n",
    "function ToTuple(a) #Convert an Array{Array{Float64,Float64}} onto Array{Tuple{Float64,Float64}}\n",
    "    c=[ ];\n",
    "    p=length(a);\n",
    "    for i in 1:p\n",
    "        push!(c,(a[i][1],a[i][2]))\n",
    "    end\n",
    "    c=convert(Array{Tuple{Float64,Float64},1},c);\n",
    "    return c\n",
    "end"
   ]
  },
  {
   "cell_type": "markdown",
   "metadata": {},
   "source": [
    "The funtion here below is the core of our code, feel free to modify or ask for its components."
   ]
  },
  {
   "cell_type": "code",
   "execution_count": null,
   "metadata": {},
   "outputs": [],
   "source": [
    "function J_Con_Hull(a)\n",
    "    PCH=[];d=0; cP=[]; dt=0;\n",
    "    \n",
    "    ap=sort(a, lt=(x,y)->isless(x[1], y[1]));\n",
    "    push!(PCH,ap[1]);\n",
    "    \n",
    "    start=PCH[1];\n",
    "    current=start;\n",
    "    \n",
    "    while true\n",
    "        \n",
    "        NT=a[1];\n",
    "        for i in 1:length(a)\n",
    "            if a[i]==current\n",
    "                continue\n",
    "            end\n",
    "            \n",
    "            d=rot(current,NT,a[i]);\n",
    "            dt=0;\n",
    "            \n",
    "            if d<0\n",
    "                NT=a[i];\n",
    "                cP=[];\n",
    "            elseif d==0\n",
    "                dt=dist(current,NT)-dist(NT,a[i]);\n",
    "                if dt<0\n",
    "                    push!(cP,NT);\n",
    "                    NT=a[i];\n",
    "                else\n",
    "                    push!(cP,a[i]);\n",
    "                end\n",
    "            end\n",
    "        end\n",
    "        \n",
    "        for i in 1:length(cP)\n",
    "            push!(PCH,cP[i]);\n",
    "        end\n",
    "        \n",
    "        if NT==start\n",
    "            break;\n",
    "        end\n",
    "        \n",
    "        push!(PCH,NT);\n",
    "        current=NT;\n",
    "    end\n",
    "    return PCH\n",
    "end"
   ]
  },
  {
   "cell_type": "markdown",
   "metadata": {},
   "source": [
    "It is important to say that the type of variables that my code recives is only arrays of array, e.g $A=[[-5,5],[9,6],[0,3],[-2,5]]$. So the _PCH_ in the return will be of the same kind. \n",
    "\n",
    "Sometimes just the points of the Convex Hull are not useful and we need to plot it with the data points. To achieve the above we can use the _Plots_ on Julia, but the _plot()_ command do not recognize this kind of data as points on the plane, thus the right way is to convert the _PCH_ and the _intial data points_ onto Tuples type data. That's the use of __To Tuple()__ and __J CH W()__ functions.\n",
    "\n",
    "__J CH W__ Return and array that contains: \n",
    "\n",
    "1. __a__ (the initial data as tuple type)\n",
    "2. __PCPp__ (the convex hull vertex as tuple type)\n",
    "3. __PCH__ (the convex hull vextex as array type)\n"
   ]
  },
  {
   "cell_type": "code",
   "execution_count": null,
   "metadata": {},
   "outputs": [],
   "source": [
    "function J_CH_W(a)\n",
    "    PCH=[]; PCHp=[];\n",
    "    \n",
    "    PCH=J_Con_Hull(a);\n",
    "    push!(PCH,PCH[1]);\n",
    "    PCHp=ToTuple(PCH);\n",
    "    a=ToTuple(a);\n",
    "    return(a,PCHp,PCH)\n",
    "end"
   ]
  },
  {
   "cell_type": "markdown",
   "metadata": {},
   "source": [
    "Enjoy!"
   ]
  }
 ],
 "metadata": {
  "kernelspec": {
   "display_name": "Julia 0.6.2",
   "language": "julia",
   "name": "julia-0.6"
  },
  "language_info": {
   "file_extension": ".jl",
   "mimetype": "application/julia",
   "name": "julia",
   "version": "0.6.2"
  },
  "latex_envs": {
   "LaTeX_envs_menu_present": true,
   "autoclose": false,
   "autocomplete": true,
   "bibliofile": "biblio.bib",
   "cite_by": "apalike",
   "current_citInitial": 1,
   "eqLabelWithNumbers": true,
   "eqNumInitial": 1,
   "hotkeys": {
    "equation": "Ctrl-E",
    "itemize": "Ctrl-I"
   },
   "labels_anchors": false,
   "latex_user_defs": false,
   "report_style_numbering": false,
   "user_envs_cfg": false
  }
 },
 "nbformat": 4,
 "nbformat_minor": 2
}
